{
 "cells": [
  {
   "cell_type": "code",
   "execution_count": 1,
   "id": "36cdd0b8",
   "metadata": {},
   "outputs": [],
   "source": [
    "import pandas as pd\n",
    "import numpy as np\n",
    "import matplotlib.pyplot as plt"
   ]
  },
  {
   "cell_type": "code",
   "execution_count": 2,
   "id": "8d7f26e7",
   "metadata": {},
   "outputs": [
    {
     "data": {
      "text/plain": [
       "array([0, 0, 0, ..., 1, 0, 1])"
      ]
     },
     "execution_count": 2,
     "metadata": {},
     "output_type": "execute_result"
    }
   ],
   "source": [
    "df = pd.read_csv(\"student_performance_prediction.csv\")\n",
    "df = df.dropna()\n",
    "x = df.iloc[:,1:-1].values\n",
    "y = df.iloc[:,-1].values\n",
    "y = np.where(y==\"Yes\",1,0)\n",
    "y"
   ]
  },
  {
   "cell_type": "code",
   "execution_count": 3,
   "id": "380d45e7",
   "metadata": {},
   "outputs": [
    {
     "data": {
      "text/plain": [
       "(29446, 5)"
      ]
     },
     "execution_count": 3,
     "metadata": {},
     "output_type": "execute_result"
    }
   ],
   "source": [
    "x.shape"
   ]
  },
  {
   "cell_type": "code",
   "execution_count": 4,
   "id": "144e50d3",
   "metadata": {},
   "outputs": [
    {
     "data": {
      "text/plain": [
       "(29446,)"
      ]
     },
     "execution_count": 4,
     "metadata": {},
     "output_type": "execute_result"
    }
   ],
   "source": [
    "y.shape"
   ]
  },
  {
   "cell_type": "code",
   "execution_count": 5,
   "id": "5cc138a0",
   "metadata": {},
   "outputs": [
    {
     "data": {
      "text/html": [
       "<div>\n",
       "<style scoped>\n",
       "    .dataframe tbody tr th:only-of-type {\n",
       "        vertical-align: middle;\n",
       "    }\n",
       "\n",
       "    .dataframe tbody tr th {\n",
       "        vertical-align: top;\n",
       "    }\n",
       "\n",
       "    .dataframe thead th {\n",
       "        text-align: right;\n",
       "    }\n",
       "</style>\n",
       "<table border=\"1\" class=\"dataframe\">\n",
       "  <thead>\n",
       "    <tr style=\"text-align: right;\">\n",
       "      <th></th>\n",
       "      <th>Student ID</th>\n",
       "      <th>Study Hours per Week</th>\n",
       "      <th>Attendance Rate</th>\n",
       "      <th>Previous Grades</th>\n",
       "      <th>Participation in Extracurricular Activities</th>\n",
       "      <th>Parent Education Level</th>\n",
       "      <th>Passed</th>\n",
       "    </tr>\n",
       "  </thead>\n",
       "  <tbody>\n",
       "    <tr>\n",
       "      <th>1</th>\n",
       "      <td>S00002</td>\n",
       "      <td>9.3</td>\n",
       "      <td>95.3</td>\n",
       "      <td>60.6</td>\n",
       "      <td>No</td>\n",
       "      <td>High School</td>\n",
       "      <td>No</td>\n",
       "    </tr>\n",
       "    <tr>\n",
       "      <th>3</th>\n",
       "      <td>S00004</td>\n",
       "      <td>17.6</td>\n",
       "      <td>76.8</td>\n",
       "      <td>62.4</td>\n",
       "      <td>Yes</td>\n",
       "      <td>Bachelor</td>\n",
       "      <td>No</td>\n",
       "    </tr>\n",
       "    <tr>\n",
       "      <th>4</th>\n",
       "      <td>S00005</td>\n",
       "      <td>8.8</td>\n",
       "      <td>89.3</td>\n",
       "      <td>72.7</td>\n",
       "      <td>No</td>\n",
       "      <td>Master</td>\n",
       "      <td>No</td>\n",
       "    </tr>\n",
       "    <tr>\n",
       "      <th>5</th>\n",
       "      <td>S00006</td>\n",
       "      <td>8.8</td>\n",
       "      <td>73.8</td>\n",
       "      <td>69.3</td>\n",
       "      <td>Yes</td>\n",
       "      <td>High School</td>\n",
       "      <td>Yes</td>\n",
       "    </tr>\n",
       "    <tr>\n",
       "      <th>6</th>\n",
       "      <td>S00007</td>\n",
       "      <td>17.9</td>\n",
       "      <td>38.6</td>\n",
       "      <td>93.6</td>\n",
       "      <td>No</td>\n",
       "      <td>Doctorate</td>\n",
       "      <td>Yes</td>\n",
       "    </tr>\n",
       "  </tbody>\n",
       "</table>\n",
       "</div>"
      ],
      "text/plain": [
       "  Student ID  Study Hours per Week  Attendance Rate  Previous Grades  \\\n",
       "1     S00002                   9.3             95.3             60.6   \n",
       "3     S00004                  17.6             76.8             62.4   \n",
       "4     S00005                   8.8             89.3             72.7   \n",
       "5     S00006                   8.8             73.8             69.3   \n",
       "6     S00007                  17.9             38.6             93.6   \n",
       "\n",
       "  Participation in Extracurricular Activities Parent Education Level Passed  \n",
       "1                                          No            High School     No  \n",
       "3                                         Yes               Bachelor     No  \n",
       "4                                          No                 Master     No  \n",
       "5                                         Yes            High School    Yes  \n",
       "6                                          No              Doctorate    Yes  "
      ]
     },
     "execution_count": 5,
     "metadata": {},
     "output_type": "execute_result"
    }
   ],
   "source": [
    "df.head()"
   ]
  },
  {
   "cell_type": "code",
   "execution_count": 6,
   "id": "d51bd8de",
   "metadata": {},
   "outputs": [
    {
     "data": {
      "text/plain": [
       "array([[9.3, 95.3, 60.6, 'No', 'High School'],\n",
       "       [17.6, 76.8, 62.4, 'Yes', 'Bachelor'],\n",
       "       [8.8, 89.3, 72.7, 'No', 'Master'],\n",
       "       ...,\n",
       "       [11.3, 66.4, 64.2, 'No', 'Doctorate'],\n",
       "       [13.1, 65.6, 38.1, 'No', 'Bachelor'],\n",
       "       [11.8, 55.1, 68.5, 'No', 'Bachelor']], dtype=object)"
      ]
     },
     "execution_count": 6,
     "metadata": {},
     "output_type": "execute_result"
    }
   ],
   "source": [
    "x"
   ]
  },
  {
   "cell_type": "code",
   "execution_count": 7,
   "id": "54810d9e",
   "metadata": {},
   "outputs": [
    {
     "data": {
      "text/plain": [
       "array([0, 0, 0, ..., 1, 0, 1])"
      ]
     },
     "execution_count": 7,
     "metadata": {},
     "output_type": "execute_result"
    }
   ],
   "source": [
    "y"
   ]
  },
  {
   "cell_type": "code",
   "execution_count": null,
   "id": "1747149d",
   "metadata": {},
   "outputs": [],
   "source": []
  },
  {
   "cell_type": "code",
   "execution_count": 8,
   "id": "a776b6b0",
   "metadata": {},
   "outputs": [
    {
     "data": {
      "text/plain": [
       "array([[9.3, 95.3, 60.6, 0, 'High School'],\n",
       "       [17.6, 76.8, 62.4, 1, 'Bachelor'],\n",
       "       [8.8, 89.3, 72.7, 0, 'Master'],\n",
       "       ...,\n",
       "       [11.3, 66.4, 64.2, 0, 'Doctorate'],\n",
       "       [13.1, 65.6, 38.1, 0, 'Bachelor'],\n",
       "       [11.8, 55.1, 68.5, 0, 'Bachelor']], dtype=object)"
      ]
     },
     "execution_count": 8,
     "metadata": {},
     "output_type": "execute_result"
    }
   ],
   "source": [
    "from sklearn.preprocessing import LabelEncoder\n",
    "le = LabelEncoder()\n",
    "x[:,3] = le.fit_transform(x[:,3])\n",
    "x"
   ]
  },
  {
   "cell_type": "code",
   "execution_count": 9,
   "id": "b70e534f",
   "metadata": {},
   "outputs": [
    {
     "data": {
      "text/plain": [
       "array([[0.0, 0.0, 0.0, ..., 95.3, 60.6, 0],\n",
       "       [0.0, 1.0, 0.0, ..., 76.8, 62.4, 1],\n",
       "       [0.0, 0.0, 0.0, ..., 89.3, 72.7, 0],\n",
       "       ...,\n",
       "       [0.0, 0.0, 1.0, ..., 66.4, 64.2, 0],\n",
       "       [0.0, 1.0, 0.0, ..., 65.6, 38.1, 0],\n",
       "       [0.0, 1.0, 0.0, ..., 55.1, 68.5, 0]], dtype=object)"
      ]
     },
     "execution_count": 9,
     "metadata": {},
     "output_type": "execute_result"
    }
   ],
   "source": [
    "from sklearn.compose import ColumnTransformer\n",
    "from sklearn.preprocessing import OneHotEncoder\n",
    "ct = ColumnTransformer(transformers=[(\"encoder\",OneHotEncoder(),[-1])],remainder=\"passthrough\")\n",
    "x = np.array(ct.fit_transform(x))\n",
    "x"
   ]
  },
  {
   "cell_type": "code",
   "execution_count": 10,
   "id": "47a2805d",
   "metadata": {},
   "outputs": [
    {
     "data": {
      "text/plain": [
       "array([0, 1, 0, ..., 0, 0, 0], dtype=object)"
      ]
     },
     "execution_count": 10,
     "metadata": {},
     "output_type": "execute_result"
    }
   ],
   "source": [
    "x[:,-1]"
   ]
  },
  {
   "cell_type": "code",
   "execution_count": 11,
   "id": "f4a8a778",
   "metadata": {},
   "outputs": [
    {
     "data": {
      "text/plain": [
       "array([[0.0, 0.0, 0.0, ..., 105.1, 74.9, 1],\n",
       "       [0.0, 0.0, 1.0, ..., 81.6, 56.4, 0],\n",
       "       [0.0, 0.0, 0.0, ..., 102.5, 98.0, 1],\n",
       "       ...,\n",
       "       [0.0, 0.0, 0.0, ..., 65.7, 55.9, 0],\n",
       "       [0.0, 1.0, 0.0, ..., 64.1, 84.1, 1],\n",
       "       [0.0, 0.0, 0.0, ..., 56.3, 31.0, 1]], dtype=object)"
      ]
     },
     "execution_count": 11,
     "metadata": {},
     "output_type": "execute_result"
    }
   ],
   "source": [
    "from sklearn.model_selection import train_test_split\n",
    "x_train ,x_test,y_train,y_test = train_test_split(x,y,test_size=0.2,random_state=0)\n",
    "x_train\n"
   ]
  },
  {
   "cell_type": "code",
   "execution_count": 12,
   "id": "583389da",
   "metadata": {},
   "outputs": [],
   "source": [
    "from sklearn.preprocessing import StandardScaler\n",
    "sc = StandardScaler()\n",
    "x_train = sc.fit_transform(x_train)\n",
    "x_test = sc.transform(x_test)"
   ]
  },
  {
   "cell_type": "code",
   "execution_count": 13,
   "id": "a22f2b49",
   "metadata": {},
   "outputs": [
    {
     "data": {
      "text/plain": [
       "array([[-0.50157819, -0.50515539, -0.5015119 , ...,  1.4610821 ,\n",
       "         0.57336988,  0.99915132],\n",
       "       [-0.50157819, -0.50515539,  1.99397063, ...,  0.30971003,\n",
       "        -0.54854838, -1.0008494 ],\n",
       "       [-0.50157819, -0.50515539, -0.5015119 , ...,  1.33369625,\n",
       "         1.97425159,  0.99915132],\n",
       "       ...,\n",
       "       [-0.50157819, -0.50515539, -0.5015119 , ..., -0.46930341,\n",
       "        -0.57887049, -1.0008494 ],\n",
       "       [-0.50157819,  1.97958889, -0.5015119 , ..., -0.5476947 ,\n",
       "         1.13129679,  0.99915132],\n",
       "       [-0.50157819, -0.50515539, -0.5015119 , ..., -0.92985224,\n",
       "        -2.08891182,  0.99915132]])"
      ]
     },
     "execution_count": 13,
     "metadata": {},
     "output_type": "execute_result"
    }
   ],
   "source": [
    "x_train"
   ]
  },
  {
   "cell_type": "code",
   "execution_count": 14,
   "id": "9b4324ac",
   "metadata": {},
   "outputs": [
    {
     "data": {
      "text/plain": [
       "array([[-0.50157819,  1.97958889, -0.5015119 , ..., -0.48400178,\n",
       "        -0.01487915,  0.99915132],\n",
       "       [-0.50157819,  1.97958889, -0.5015119 , ...,  0.56448172,\n",
       "         1.08884583, -1.0008494 ],\n",
       "       [-0.50157819, -0.50515539, -0.5015119 , ...,  0.96133763,\n",
       "         1.28897179,  0.99915132],\n",
       "       ...,\n",
       "       [-0.50157819, -0.50515539, -0.5015119 , ...,  3.36207088,\n",
       "         0.12460258,  0.99915132],\n",
       "       [-0.50157819, -0.50515539,  1.99397063, ...,  0.92214198,\n",
       "        -0.22713396,  0.99915132],\n",
       "       [-0.50157819, -0.50515539, -0.5015119 , ..., -0.92985224,\n",
       "         1.75593236, -1.0008494 ]])"
      ]
     },
     "execution_count": 14,
     "metadata": {},
     "output_type": "execute_result"
    }
   ],
   "source": [
    "x_test"
   ]
  },
  {
   "cell_type": "code",
   "execution_count": 15,
   "id": "9cd555bf",
   "metadata": {},
   "outputs": [
    {
     "data": {
      "text/plain": [
       "array([0, 0, 0, ..., 1, 1, 0])"
      ]
     },
     "execution_count": 15,
     "metadata": {},
     "output_type": "execute_result"
    }
   ],
   "source": [
    "y_train"
   ]
  },
  {
   "cell_type": "code",
   "execution_count": 16,
   "id": "b4fc01e0",
   "metadata": {},
   "outputs": [],
   "source": [
    "import tensorflow as tf"
   ]
  },
  {
   "cell_type": "code",
   "execution_count": 17,
   "id": "5e58e9dd",
   "metadata": {},
   "outputs": [],
   "source": [
    "ann = tf.keras.models.Sequential()"
   ]
  },
  {
   "cell_type": "code",
   "execution_count": 18,
   "id": "cba76cea",
   "metadata": {},
   "outputs": [],
   "source": [
    "ann.add(tf.keras.layers.Dense(units=5,activation=\"relu\"))"
   ]
  },
  {
   "cell_type": "code",
   "execution_count": 19,
   "id": "5b244d55",
   "metadata": {},
   "outputs": [],
   "source": [
    "ann.add(tf.keras.layers.Dense(units=5,activation=\"relu\"))"
   ]
  },
  {
   "cell_type": "code",
   "execution_count": 20,
   "id": "8786a031",
   "metadata": {},
   "outputs": [],
   "source": [
    "ann.add(tf.keras.layers.Dense(units=1,activation=\"sigmoid\"))"
   ]
  },
  {
   "cell_type": "code",
   "execution_count": 21,
   "id": "8f8b3c02",
   "metadata": {},
   "outputs": [],
   "source": [
    "ann.compile(optimizer=\"adam\",loss=\"binary_crossentropy\",metrics=[\"accuracy\"])"
   ]
  },
  {
   "cell_type": "code",
   "execution_count": 22,
   "id": "2e9a07aa",
   "metadata": {
    "scrolled": false
   },
   "outputs": [
    {
     "name": "stdout",
     "output_type": "stream",
     "text": [
      "Epoch 1/100\n",
      "\u001b[1m737/737\u001b[0m \u001b[32m━━━━━━━━━━━━━━━━━━━━\u001b[0m\u001b[37m\u001b[0m \u001b[1m1s\u001b[0m 237us/step - accuracy: 0.5038 - loss: 0.6985\n",
      "Epoch 2/100\n",
      "\u001b[1m737/737\u001b[0m \u001b[32m━━━━━━━━━━━━━━━━━━━━\u001b[0m\u001b[37m\u001b[0m \u001b[1m0s\u001b[0m 224us/step - accuracy: 0.5021 - loss: 0.6941\n",
      "Epoch 3/100\n",
      "\u001b[1m737/737\u001b[0m \u001b[32m━━━━━━━━━━━━━━━━━━━━\u001b[0m\u001b[37m\u001b[0m \u001b[1m0s\u001b[0m 224us/step - accuracy: 0.4947 - loss: 0.6937\n",
      "Epoch 4/100\n",
      "\u001b[1m737/737\u001b[0m \u001b[32m━━━━━━━━━━━━━━━━━━━━\u001b[0m\u001b[37m\u001b[0m \u001b[1m0s\u001b[0m 225us/step - accuracy: 0.5124 - loss: 0.6932\n",
      "Epoch 5/100\n",
      "\u001b[1m737/737\u001b[0m \u001b[32m━━━━━━━━━━━━━━━━━━━━\u001b[0m\u001b[37m\u001b[0m \u001b[1m0s\u001b[0m 223us/step - accuracy: 0.5028 - loss: 0.6933\n",
      "Epoch 6/100\n",
      "\u001b[1m737/737\u001b[0m \u001b[32m━━━━━━━━━━━━━━━━━━━━\u001b[0m\u001b[37m\u001b[0m \u001b[1m0s\u001b[0m 224us/step - accuracy: 0.5085 - loss: 0.6931\n",
      "Epoch 7/100\n",
      "\u001b[1m737/737\u001b[0m \u001b[32m━━━━━━━━━━━━━━━━━━━━\u001b[0m\u001b[37m\u001b[0m \u001b[1m0s\u001b[0m 222us/step - accuracy: 0.5097 - loss: 0.6930\n",
      "Epoch 8/100\n",
      "\u001b[1m737/737\u001b[0m \u001b[32m━━━━━━━━━━━━━━━━━━━━\u001b[0m\u001b[37m\u001b[0m \u001b[1m0s\u001b[0m 226us/step - accuracy: 0.5143 - loss: 0.6927\n",
      "Epoch 9/100\n",
      "\u001b[1m737/737\u001b[0m \u001b[32m━━━━━━━━━━━━━━━━━━━━\u001b[0m\u001b[37m\u001b[0m \u001b[1m0s\u001b[0m 226us/step - accuracy: 0.5099 - loss: 0.6930\n",
      "Epoch 10/100\n",
      "\u001b[1m737/737\u001b[0m \u001b[32m━━━━━━━━━━━━━━━━━━━━\u001b[0m\u001b[37m\u001b[0m \u001b[1m0s\u001b[0m 224us/step - accuracy: 0.5100 - loss: 0.6927\n",
      "Epoch 11/100\n",
      "\u001b[1m737/737\u001b[0m \u001b[32m━━━━━━━━━━━━━━━━━━━━\u001b[0m\u001b[37m\u001b[0m \u001b[1m0s\u001b[0m 234us/step - accuracy: 0.5176 - loss: 0.6924\n",
      "Epoch 12/100\n",
      "\u001b[1m737/737\u001b[0m \u001b[32m━━━━━━━━━━━━━━━━━━━━\u001b[0m\u001b[37m\u001b[0m \u001b[1m0s\u001b[0m 226us/step - accuracy: 0.5160 - loss: 0.6924\n",
      "Epoch 13/100\n",
      "\u001b[1m737/737\u001b[0m \u001b[32m━━━━━━━━━━━━━━━━━━━━\u001b[0m\u001b[37m\u001b[0m \u001b[1m0s\u001b[0m 225us/step - accuracy: 0.5212 - loss: 0.6924\n",
      "Epoch 14/100\n",
      "\u001b[1m737/737\u001b[0m \u001b[32m━━━━━━━━━━━━━━━━━━━━\u001b[0m\u001b[37m\u001b[0m \u001b[1m0s\u001b[0m 227us/step - accuracy: 0.5168 - loss: 0.6925\n",
      "Epoch 15/100\n",
      "\u001b[1m737/737\u001b[0m \u001b[32m━━━━━━━━━━━━━━━━━━━━\u001b[0m\u001b[37m\u001b[0m \u001b[1m0s\u001b[0m 227us/step - accuracy: 0.5192 - loss: 0.6922\n",
      "Epoch 16/100\n",
      "\u001b[1m737/737\u001b[0m \u001b[32m━━━━━━━━━━━━━━━━━━━━\u001b[0m\u001b[37m\u001b[0m \u001b[1m0s\u001b[0m 225us/step - accuracy: 0.5167 - loss: 0.6925\n",
      "Epoch 17/100\n",
      "\u001b[1m737/737\u001b[0m \u001b[32m━━━━━━━━━━━━━━━━━━━━\u001b[0m\u001b[37m\u001b[0m \u001b[1m0s\u001b[0m 224us/step - accuracy: 0.5221 - loss: 0.6922\n",
      "Epoch 18/100\n",
      "\u001b[1m737/737\u001b[0m \u001b[32m━━━━━━━━━━━━━━━━━━━━\u001b[0m\u001b[37m\u001b[0m \u001b[1m0s\u001b[0m 225us/step - accuracy: 0.5145 - loss: 0.6920\n",
      "Epoch 19/100\n",
      "\u001b[1m737/737\u001b[0m \u001b[32m━━━━━━━━━━━━━━━━━━━━\u001b[0m\u001b[37m\u001b[0m \u001b[1m0s\u001b[0m 225us/step - accuracy: 0.5120 - loss: 0.6922\n",
      "Epoch 20/100\n",
      "\u001b[1m737/737\u001b[0m \u001b[32m━━━━━━━━━━━━━━━━━━━━\u001b[0m\u001b[37m\u001b[0m \u001b[1m0s\u001b[0m 225us/step - accuracy: 0.5216 - loss: 0.6920\n",
      "Epoch 21/100\n",
      "\u001b[1m737/737\u001b[0m \u001b[32m━━━━━━━━━━━━━━━━━━━━\u001b[0m\u001b[37m\u001b[0m \u001b[1m0s\u001b[0m 232us/step - accuracy: 0.5212 - loss: 0.6916\n",
      "Epoch 22/100\n",
      "\u001b[1m737/737\u001b[0m \u001b[32m━━━━━━━━━━━━━━━━━━━━\u001b[0m\u001b[37m\u001b[0m \u001b[1m0s\u001b[0m 227us/step - accuracy: 0.5225 - loss: 0.6921\n",
      "Epoch 23/100\n",
      "\u001b[1m737/737\u001b[0m \u001b[32m━━━━━━━━━━━━━━━━━━━━\u001b[0m\u001b[37m\u001b[0m \u001b[1m0s\u001b[0m 225us/step - accuracy: 0.5216 - loss: 0.6923\n",
      "Epoch 24/100\n",
      "\u001b[1m737/737\u001b[0m \u001b[32m━━━━━━━━━━━━━━━━━━━━\u001b[0m\u001b[37m\u001b[0m \u001b[1m0s\u001b[0m 226us/step - accuracy: 0.5175 - loss: 0.6924\n",
      "Epoch 25/100\n",
      "\u001b[1m737/737\u001b[0m \u001b[32m━━━━━━━━━━━━━━━━━━━━\u001b[0m\u001b[37m\u001b[0m \u001b[1m0s\u001b[0m 224us/step - accuracy: 0.5206 - loss: 0.6918\n",
      "Epoch 26/100\n",
      "\u001b[1m737/737\u001b[0m \u001b[32m━━━━━━━━━━━━━━━━━━━━\u001b[0m\u001b[37m\u001b[0m \u001b[1m0s\u001b[0m 225us/step - accuracy: 0.5163 - loss: 0.6922\n",
      "Epoch 27/100\n",
      "\u001b[1m737/737\u001b[0m \u001b[32m━━━━━━━━━━━━━━━━━━━━\u001b[0m\u001b[37m\u001b[0m \u001b[1m0s\u001b[0m 228us/step - accuracy: 0.5162 - loss: 0.6923\n",
      "Epoch 28/100\n",
      "\u001b[1m737/737\u001b[0m \u001b[32m━━━━━━━━━━━━━━━━━━━━\u001b[0m\u001b[37m\u001b[0m \u001b[1m0s\u001b[0m 227us/step - accuracy: 0.5244 - loss: 0.6918\n",
      "Epoch 29/100\n",
      "\u001b[1m737/737\u001b[0m \u001b[32m━━━━━━━━━━━━━━━━━━━━\u001b[0m\u001b[37m\u001b[0m \u001b[1m0s\u001b[0m 228us/step - accuracy: 0.5219 - loss: 0.6920\n",
      "Epoch 30/100\n",
      "\u001b[1m737/737\u001b[0m \u001b[32m━━━━━━━━━━━━━━━━━━━━\u001b[0m\u001b[37m\u001b[0m \u001b[1m0s\u001b[0m 223us/step - accuracy: 0.5227 - loss: 0.6920\n",
      "Epoch 31/100\n",
      "\u001b[1m737/737\u001b[0m \u001b[32m━━━━━━━━━━━━━━━━━━━━\u001b[0m\u001b[37m\u001b[0m \u001b[1m0s\u001b[0m 228us/step - accuracy: 0.5155 - loss: 0.6925\n",
      "Epoch 32/100\n",
      "\u001b[1m737/737\u001b[0m \u001b[32m━━━━━━━━━━━━━━━━━━━━\u001b[0m\u001b[37m\u001b[0m \u001b[1m0s\u001b[0m 227us/step - accuracy: 0.5170 - loss: 0.6922\n",
      "Epoch 33/100\n",
      "\u001b[1m737/737\u001b[0m \u001b[32m━━━━━━━━━━━━━━━━━━━━\u001b[0m\u001b[37m\u001b[0m \u001b[1m0s\u001b[0m 227us/step - accuracy: 0.5177 - loss: 0.6922\n",
      "Epoch 34/100\n",
      "\u001b[1m737/737\u001b[0m \u001b[32m━━━━━━━━━━━━━━━━━━━━\u001b[0m\u001b[37m\u001b[0m \u001b[1m0s\u001b[0m 231us/step - accuracy: 0.5199 - loss: 0.6920\n",
      "Epoch 35/100\n",
      "\u001b[1m737/737\u001b[0m \u001b[32m━━━━━━━━━━━━━━━━━━━━\u001b[0m\u001b[37m\u001b[0m \u001b[1m0s\u001b[0m 230us/step - accuracy: 0.5207 - loss: 0.6922\n",
      "Epoch 36/100\n",
      "\u001b[1m737/737\u001b[0m \u001b[32m━━━━━━━━━━━━━━━━━━━━\u001b[0m\u001b[37m\u001b[0m \u001b[1m0s\u001b[0m 228us/step - accuracy: 0.5108 - loss: 0.6924\n",
      "Epoch 37/100\n",
      "\u001b[1m737/737\u001b[0m \u001b[32m━━━━━━━━━━━━━━━━━━━━\u001b[0m\u001b[37m\u001b[0m \u001b[1m0s\u001b[0m 226us/step - accuracy: 0.5201 - loss: 0.6922\n",
      "Epoch 38/100\n",
      "\u001b[1m737/737\u001b[0m \u001b[32m━━━━━━━━━━━━━━━━━━━━\u001b[0m\u001b[37m\u001b[0m \u001b[1m0s\u001b[0m 225us/step - accuracy: 0.5176 - loss: 0.6922\n",
      "Epoch 39/100\n",
      "\u001b[1m737/737\u001b[0m \u001b[32m━━━━━━━━━━━━━━━━━━━━\u001b[0m\u001b[37m\u001b[0m \u001b[1m0s\u001b[0m 228us/step - accuracy: 0.5226 - loss: 0.6919\n",
      "Epoch 40/100\n",
      "\u001b[1m737/737\u001b[0m \u001b[32m━━━━━━━━━━━━━━━━━━━━\u001b[0m\u001b[37m\u001b[0m \u001b[1m0s\u001b[0m 227us/step - accuracy: 0.5219 - loss: 0.6920\n",
      "Epoch 41/100\n",
      "\u001b[1m737/737\u001b[0m \u001b[32m━━━━━━━━━━━━━━━━━━━━\u001b[0m\u001b[37m\u001b[0m \u001b[1m0s\u001b[0m 224us/step - accuracy: 0.5239 - loss: 0.6915\n",
      "Epoch 42/100\n",
      "\u001b[1m737/737\u001b[0m \u001b[32m━━━━━━━━━━━━━━━━━━━━\u001b[0m\u001b[37m\u001b[0m \u001b[1m0s\u001b[0m 225us/step - accuracy: 0.5215 - loss: 0.6918\n",
      "Epoch 43/100\n",
      "\u001b[1m737/737\u001b[0m \u001b[32m━━━━━━━━━━━━━━━━━━━━\u001b[0m\u001b[37m\u001b[0m \u001b[1m0s\u001b[0m 230us/step - accuracy: 0.5236 - loss: 0.6915\n",
      "Epoch 44/100\n",
      "\u001b[1m737/737\u001b[0m \u001b[32m━━━━━━━━━━━━━━━━━━━━\u001b[0m\u001b[37m\u001b[0m \u001b[1m0s\u001b[0m 225us/step - accuracy: 0.5231 - loss: 0.6917\n",
      "Epoch 45/100\n",
      "\u001b[1m737/737\u001b[0m \u001b[32m━━━━━━━━━━━━━━━━━━━━\u001b[0m\u001b[37m\u001b[0m \u001b[1m0s\u001b[0m 224us/step - accuracy: 0.5197 - loss: 0.6917\n",
      "Epoch 46/100\n",
      "\u001b[1m737/737\u001b[0m \u001b[32m━━━━━━━━━━━━━━━━━━━━\u001b[0m\u001b[37m\u001b[0m \u001b[1m0s\u001b[0m 224us/step - accuracy: 0.5174 - loss: 0.6916\n",
      "Epoch 47/100\n",
      "\u001b[1m737/737\u001b[0m \u001b[32m━━━━━━━━━━━━━━━━━━━━\u001b[0m\u001b[37m\u001b[0m \u001b[1m0s\u001b[0m 226us/step - accuracy: 0.5272 - loss: 0.6914\n",
      "Epoch 48/100\n",
      "\u001b[1m737/737\u001b[0m \u001b[32m━━━━━━━━━━━━━━━━━━━━\u001b[0m\u001b[37m\u001b[0m \u001b[1m0s\u001b[0m 223us/step - accuracy: 0.5205 - loss: 0.6918\n",
      "Epoch 49/100\n",
      "\u001b[1m737/737\u001b[0m \u001b[32m━━━━━━━━━━━━━━━━━━━━\u001b[0m\u001b[37m\u001b[0m \u001b[1m0s\u001b[0m 226us/step - accuracy: 0.5180 - loss: 0.6919\n",
      "Epoch 50/100\n",
      "\u001b[1m737/737\u001b[0m \u001b[32m━━━━━━━━━━━━━━━━━━━━\u001b[0m\u001b[37m\u001b[0m \u001b[1m0s\u001b[0m 225us/step - accuracy: 0.5172 - loss: 0.6921\n",
      "Epoch 51/100\n",
      "\u001b[1m737/737\u001b[0m \u001b[32m━━━━━━━━━━━━━━━━━━━━\u001b[0m\u001b[37m\u001b[0m \u001b[1m0s\u001b[0m 231us/step - accuracy: 0.5215 - loss: 0.6919\n",
      "Epoch 52/100\n",
      "\u001b[1m737/737\u001b[0m \u001b[32m━━━━━━━━━━━━━━━━━━━━\u001b[0m\u001b[37m\u001b[0m \u001b[1m0s\u001b[0m 226us/step - accuracy: 0.5211 - loss: 0.6923\n",
      "Epoch 53/100\n",
      "\u001b[1m737/737\u001b[0m \u001b[32m━━━━━━━━━━━━━━━━━━━━\u001b[0m\u001b[37m\u001b[0m \u001b[1m0s\u001b[0m 231us/step - accuracy: 0.5163 - loss: 0.6924\n",
      "Epoch 54/100\n",
      "\u001b[1m737/737\u001b[0m \u001b[32m━━━━━━━━━━━━━━━━━━━━\u001b[0m\u001b[37m\u001b[0m \u001b[1m0s\u001b[0m 226us/step - accuracy: 0.5157 - loss: 0.6923\n",
      "Epoch 55/100\n",
      "\u001b[1m737/737\u001b[0m \u001b[32m━━━━━━━━━━━━━━━━━━━━\u001b[0m\u001b[37m\u001b[0m \u001b[1m0s\u001b[0m 230us/step - accuracy: 0.5136 - loss: 0.6926\n",
      "Epoch 56/100\n",
      "\u001b[1m737/737\u001b[0m \u001b[32m━━━━━━━━━━━━━━━━━━━━\u001b[0m\u001b[37m\u001b[0m \u001b[1m0s\u001b[0m 225us/step - accuracy: 0.5180 - loss: 0.6919\n",
      "Epoch 57/100\n",
      "\u001b[1m737/737\u001b[0m \u001b[32m━━━━━━━━━━━━━━━━━━━━\u001b[0m\u001b[37m\u001b[0m \u001b[1m0s\u001b[0m 226us/step - accuracy: 0.5236 - loss: 0.6916\n",
      "Epoch 58/100\n",
      "\u001b[1m737/737\u001b[0m \u001b[32m━━━━━━━━━━━━━━━━━━━━\u001b[0m\u001b[37m\u001b[0m \u001b[1m0s\u001b[0m 227us/step - accuracy: 0.5252 - loss: 0.6915\n",
      "Epoch 59/100\n",
      "\u001b[1m737/737\u001b[0m \u001b[32m━━━━━━━━━━━━━━━━━━━━\u001b[0m\u001b[37m\u001b[0m \u001b[1m0s\u001b[0m 224us/step - accuracy: 0.5212 - loss: 0.6917\n",
      "Epoch 60/100\n",
      "\u001b[1m737/737\u001b[0m \u001b[32m━━━━━━━━━━━━━━━━━━━━\u001b[0m\u001b[37m\u001b[0m \u001b[1m0s\u001b[0m 221us/step - accuracy: 0.5134 - loss: 0.6921\n",
      "Epoch 61/100\n",
      "\u001b[1m737/737\u001b[0m \u001b[32m━━━━━━━━━━━━━━━━━━━━\u001b[0m\u001b[37m\u001b[0m \u001b[1m0s\u001b[0m 231us/step - accuracy: 0.5269 - loss: 0.6910\n",
      "Epoch 62/100\n",
      "\u001b[1m737/737\u001b[0m \u001b[32m━━━━━━━━━━━━━━━━━━━━\u001b[0m\u001b[37m\u001b[0m \u001b[1m0s\u001b[0m 230us/step - accuracy: 0.5150 - loss: 0.6920\n",
      "Epoch 63/100\n",
      "\u001b[1m737/737\u001b[0m \u001b[32m━━━━━━━━━━━━━━━━━━━━\u001b[0m\u001b[37m\u001b[0m \u001b[1m0s\u001b[0m 229us/step - accuracy: 0.5196 - loss: 0.6917\n",
      "Epoch 64/100\n",
      "\u001b[1m737/737\u001b[0m \u001b[32m━━━━━━━━━━━━━━━━━━━━\u001b[0m\u001b[37m\u001b[0m \u001b[1m0s\u001b[0m 232us/step - accuracy: 0.5220 - loss: 0.6915\n",
      "Epoch 65/100\n",
      "\u001b[1m737/737\u001b[0m \u001b[32m━━━━━━━━━━━━━━━━━━━━\u001b[0m\u001b[37m\u001b[0m \u001b[1m0s\u001b[0m 228us/step - accuracy: 0.5147 - loss: 0.6918\n",
      "Epoch 66/100\n",
      "\u001b[1m737/737\u001b[0m \u001b[32m━━━━━━━━━━━━━━━━━━━━\u001b[0m\u001b[37m\u001b[0m \u001b[1m0s\u001b[0m 234us/step - accuracy: 0.5176 - loss: 0.6918\n",
      "Epoch 67/100\n"
     ]
    },
    {
     "name": "stdout",
     "output_type": "stream",
     "text": [
      "\u001b[1m737/737\u001b[0m \u001b[32m━━━━━━━━━━━━━━━━━━━━\u001b[0m\u001b[37m\u001b[0m \u001b[1m0s\u001b[0m 228us/step - accuracy: 0.5216 - loss: 0.6916\n",
      "Epoch 68/100\n",
      "\u001b[1m737/737\u001b[0m \u001b[32m━━━━━━━━━━━━━━━━━━━━\u001b[0m\u001b[37m\u001b[0m \u001b[1m0s\u001b[0m 225us/step - accuracy: 0.5190 - loss: 0.6919\n",
      "Epoch 69/100\n",
      "\u001b[1m737/737\u001b[0m \u001b[32m━━━━━━━━━━━━━━━━━━━━\u001b[0m\u001b[37m\u001b[0m \u001b[1m0s\u001b[0m 224us/step - accuracy: 0.5172 - loss: 0.6920\n",
      "Epoch 70/100\n",
      "\u001b[1m737/737\u001b[0m \u001b[32m━━━━━━━━━━━━━━━━━━━━\u001b[0m\u001b[37m\u001b[0m \u001b[1m0s\u001b[0m 225us/step - accuracy: 0.5220 - loss: 0.6913\n",
      "Epoch 71/100\n",
      "\u001b[1m737/737\u001b[0m \u001b[32m━━━━━━━━━━━━━━━━━━━━\u001b[0m\u001b[37m\u001b[0m \u001b[1m0s\u001b[0m 229us/step - accuracy: 0.5217 - loss: 0.6914\n",
      "Epoch 72/100\n",
      "\u001b[1m737/737\u001b[0m \u001b[32m━━━━━━━━━━━━━━━━━━━━\u001b[0m\u001b[37m\u001b[0m \u001b[1m0s\u001b[0m 225us/step - accuracy: 0.5229 - loss: 0.6918\n",
      "Epoch 73/100\n",
      "\u001b[1m737/737\u001b[0m \u001b[32m━━━━━━━━━━━━━━━━━━━━\u001b[0m\u001b[37m\u001b[0m \u001b[1m0s\u001b[0m 224us/step - accuracy: 0.5207 - loss: 0.6917\n",
      "Epoch 74/100\n",
      "\u001b[1m737/737\u001b[0m \u001b[32m━━━━━━━━━━━━━━━━━━━━\u001b[0m\u001b[37m\u001b[0m \u001b[1m0s\u001b[0m 224us/step - accuracy: 0.5247 - loss: 0.6913\n",
      "Epoch 75/100\n",
      "\u001b[1m737/737\u001b[0m \u001b[32m━━━━━━━━━━━━━━━━━━━━\u001b[0m\u001b[37m\u001b[0m \u001b[1m0s\u001b[0m 223us/step - accuracy: 0.5172 - loss: 0.6921\n",
      "Epoch 76/100\n",
      "\u001b[1m737/737\u001b[0m \u001b[32m━━━━━━━━━━━━━━━━━━━━\u001b[0m\u001b[37m\u001b[0m \u001b[1m0s\u001b[0m 222us/step - accuracy: 0.5182 - loss: 0.6920\n",
      "Epoch 77/100\n",
      "\u001b[1m737/737\u001b[0m \u001b[32m━━━━━━━━━━━━━━━━━━━━\u001b[0m\u001b[37m\u001b[0m \u001b[1m0s\u001b[0m 223us/step - accuracy: 0.5201 - loss: 0.6919\n",
      "Epoch 78/100\n",
      "\u001b[1m737/737\u001b[0m \u001b[32m━━━━━━━━━━━━━━━━━━━━\u001b[0m\u001b[37m\u001b[0m \u001b[1m0s\u001b[0m 223us/step - accuracy: 0.5220 - loss: 0.6914\n",
      "Epoch 79/100\n",
      "\u001b[1m737/737\u001b[0m \u001b[32m━━━━━━━━━━━━━━━━━━━━\u001b[0m\u001b[37m\u001b[0m \u001b[1m0s\u001b[0m 223us/step - accuracy: 0.5226 - loss: 0.6916\n",
      "Epoch 80/100\n",
      "\u001b[1m737/737\u001b[0m \u001b[32m━━━━━━━━━━━━━━━━━━━━\u001b[0m\u001b[37m\u001b[0m \u001b[1m0s\u001b[0m 224us/step - accuracy: 0.5275 - loss: 0.6913\n",
      "Epoch 81/100\n",
      "\u001b[1m737/737\u001b[0m \u001b[32m━━━━━━━━━━━━━━━━━━━━\u001b[0m\u001b[37m\u001b[0m \u001b[1m0s\u001b[0m 223us/step - accuracy: 0.5243 - loss: 0.6918\n",
      "Epoch 82/100\n",
      "\u001b[1m737/737\u001b[0m \u001b[32m━━━━━━━━━━━━━━━━━━━━\u001b[0m\u001b[37m\u001b[0m \u001b[1m0s\u001b[0m 224us/step - accuracy: 0.5250 - loss: 0.6910\n",
      "Epoch 83/100\n",
      "\u001b[1m737/737\u001b[0m \u001b[32m━━━━━━━━━━━━━━━━━━━━\u001b[0m\u001b[37m\u001b[0m \u001b[1m0s\u001b[0m 225us/step - accuracy: 0.5162 - loss: 0.6921\n",
      "Epoch 84/100\n",
      "\u001b[1m737/737\u001b[0m \u001b[32m━━━━━━━━━━━━━━━━━━━━\u001b[0m\u001b[37m\u001b[0m \u001b[1m0s\u001b[0m 225us/step - accuracy: 0.5196 - loss: 0.6920\n",
      "Epoch 85/100\n",
      "\u001b[1m737/737\u001b[0m \u001b[32m━━━━━━━━━━━━━━━━━━━━\u001b[0m\u001b[37m\u001b[0m \u001b[1m0s\u001b[0m 224us/step - accuracy: 0.5260 - loss: 0.6912\n",
      "Epoch 86/100\n",
      "\u001b[1m737/737\u001b[0m \u001b[32m━━━━━━━━━━━━━━━━━━━━\u001b[0m\u001b[37m\u001b[0m \u001b[1m0s\u001b[0m 225us/step - accuracy: 0.5216 - loss: 0.6916\n",
      "Epoch 87/100\n",
      "\u001b[1m737/737\u001b[0m \u001b[32m━━━━━━━━━━━━━━━━━━━━\u001b[0m\u001b[37m\u001b[0m \u001b[1m0s\u001b[0m 229us/step - accuracy: 0.5186 - loss: 0.6917\n",
      "Epoch 88/100\n",
      "\u001b[1m737/737\u001b[0m \u001b[32m━━━━━━━━━━━━━━━━━━━━\u001b[0m\u001b[37m\u001b[0m \u001b[1m0s\u001b[0m 226us/step - accuracy: 0.5214 - loss: 0.6917\n",
      "Epoch 89/100\n",
      "\u001b[1m737/737\u001b[0m \u001b[32m━━━━━━━━━━━━━━━━━━━━\u001b[0m\u001b[37m\u001b[0m \u001b[1m0s\u001b[0m 225us/step - accuracy: 0.5205 - loss: 0.6918\n",
      "Epoch 90/100\n",
      "\u001b[1m737/737\u001b[0m \u001b[32m━━━━━━━━━━━━━━━━━━━━\u001b[0m\u001b[37m\u001b[0m \u001b[1m0s\u001b[0m 225us/step - accuracy: 0.5252 - loss: 0.6912\n",
      "Epoch 91/100\n",
      "\u001b[1m737/737\u001b[0m \u001b[32m━━━━━━━━━━━━━━━━━━━━\u001b[0m\u001b[37m\u001b[0m \u001b[1m0s\u001b[0m 225us/step - accuracy: 0.5257 - loss: 0.6914\n",
      "Epoch 92/100\n",
      "\u001b[1m737/737\u001b[0m \u001b[32m━━━━━━━━━━━━━━━━━━━━\u001b[0m\u001b[37m\u001b[0m \u001b[1m0s\u001b[0m 225us/step - accuracy: 0.5234 - loss: 0.6915\n",
      "Epoch 93/100\n",
      "\u001b[1m737/737\u001b[0m \u001b[32m━━━━━━━━━━━━━━━━━━━━\u001b[0m\u001b[37m\u001b[0m \u001b[1m0s\u001b[0m 226us/step - accuracy: 0.5169 - loss: 0.6919\n",
      "Epoch 94/100\n",
      "\u001b[1m737/737\u001b[0m \u001b[32m━━━━━━━━━━━━━━━━━━━━\u001b[0m\u001b[37m\u001b[0m \u001b[1m0s\u001b[0m 232us/step - accuracy: 0.5253 - loss: 0.6912\n",
      "Epoch 95/100\n",
      "\u001b[1m737/737\u001b[0m \u001b[32m━━━━━━━━━━━━━━━━━━━━\u001b[0m\u001b[37m\u001b[0m \u001b[1m0s\u001b[0m 225us/step - accuracy: 0.5219 - loss: 0.6913\n",
      "Epoch 96/100\n",
      "\u001b[1m737/737\u001b[0m \u001b[32m━━━━━━━━━━━━━━━━━━━━\u001b[0m\u001b[37m\u001b[0m \u001b[1m0s\u001b[0m 224us/step - accuracy: 0.5297 - loss: 0.6911\n",
      "Epoch 97/100\n",
      "\u001b[1m737/737\u001b[0m \u001b[32m━━━━━━━━━━━━━━━━━━━━\u001b[0m\u001b[37m\u001b[0m \u001b[1m0s\u001b[0m 225us/step - accuracy: 0.5194 - loss: 0.6912\n",
      "Epoch 98/100\n",
      "\u001b[1m737/737\u001b[0m \u001b[32m━━━━━━━━━━━━━━━━━━━━\u001b[0m\u001b[37m\u001b[0m \u001b[1m0s\u001b[0m 226us/step - accuracy: 0.5260 - loss: 0.6914\n",
      "Epoch 99/100\n",
      "\u001b[1m737/737\u001b[0m \u001b[32m━━━━━━━━━━━━━━━━━━━━\u001b[0m\u001b[37m\u001b[0m \u001b[1m0s\u001b[0m 227us/step - accuracy: 0.5229 - loss: 0.6916\n",
      "Epoch 100/100\n",
      "\u001b[1m737/737\u001b[0m \u001b[32m━━━━━━━━━━━━━━━━━━━━\u001b[0m\u001b[37m\u001b[0m \u001b[1m0s\u001b[0m 234us/step - accuracy: 0.5236 - loss: 0.6918\n"
     ]
    },
    {
     "data": {
      "text/plain": [
       "<keras.src.callbacks.history.History at 0x17dde3ce0>"
      ]
     },
     "execution_count": 22,
     "metadata": {},
     "output_type": "execute_result"
    }
   ],
   "source": [
    "ann.fit(x_train,y_train,batch_size=32,epochs=100)"
   ]
  },
  {
   "cell_type": "code",
   "execution_count": 23,
   "id": "d5351bce",
   "metadata": {},
   "outputs": [
    {
     "name": "stdout",
     "output_type": "stream",
     "text": [
      "\u001b[1m1/1\u001b[0m \u001b[32m━━━━━━━━━━━━━━━━━━━━\u001b[0m\u001b[37m\u001b[0m \u001b[1m0s\u001b[0m 27ms/step\n",
      "[[ True]]\n"
     ]
    }
   ],
   "source": [
    "print(ann.predict(sc.transform([[0,0,0,0,1,13,100,70,1]]))>0.5)"
   ]
  },
  {
   "cell_type": "code",
   "execution_count": 24,
   "id": "bbde88a5",
   "metadata": {},
   "outputs": [
    {
     "name": "stdout",
     "output_type": "stream",
     "text": [
      "\u001b[1m1/1\u001b[0m \u001b[32m━━━━━━━━━━━━━━━━━━━━\u001b[0m\u001b[37m\u001b[0m \u001b[1m0s\u001b[0m 11ms/step\n",
      "[[0.5042879]]\n"
     ]
    }
   ],
   "source": [
    "print(ann.predict(sc.transform([[0,0,0,0,1,13,100,70,1]])))"
   ]
  },
  {
   "cell_type": "code",
   "execution_count": 25,
   "id": "45b2f3ab",
   "metadata": {},
   "outputs": [
    {
     "name": "stdout",
     "output_type": "stream",
     "text": [
      "\u001b[1m1/1\u001b[0m \u001b[32m━━━━━━━━━━━━━━━━━━━━\u001b[0m\u001b[37m\u001b[0m \u001b[1m0s\u001b[0m 11ms/step\n",
      "[[False]]\n"
     ]
    }
   ],
   "source": [
    "print(ann.predict(sc.transform([[0,0,0,1,1,24,100,67,1]]))>0.5)"
   ]
  },
  {
   "cell_type": "code",
   "execution_count": 27,
   "id": "2d5a82db",
   "metadata": {},
   "outputs": [
    {
     "name": "stdout",
     "output_type": "stream",
     "text": [
      "\u001b[1m1/1\u001b[0m \u001b[32m━━━━━━━━━━━━━━━━━━━━\u001b[0m\u001b[37m\u001b[0m \u001b[1m0s\u001b[0m 11ms/step\n",
      "[[0.49681512]]\n"
     ]
    }
   ],
   "source": [
    "print(ann.predict(sc.transform([[0,0,0,1,1,24,100,67,1]])))"
   ]
  },
  {
   "cell_type": "code",
   "execution_count": null,
   "id": "6180fa79",
   "metadata": {},
   "outputs": [],
   "source": []
  }
 ],
 "metadata": {
  "kernelspec": {
   "display_name": "Python 3 (ipykernel)",
   "language": "python",
   "name": "python3"
  },
  "language_info": {
   "codemirror_mode": {
    "name": "ipython",
    "version": 3
   },
   "file_extension": ".py",
   "mimetype": "text/x-python",
   "name": "python",
   "nbconvert_exporter": "python",
   "pygments_lexer": "ipython3",
   "version": "3.12.4"
  }
 },
 "nbformat": 4,
 "nbformat_minor": 5
}
